{
 "cells": [
  {
   "cell_type": "markdown",
   "metadata": {},
   "source": [
    "## Car price prediction: Data Analysis\n",
    "\n",
    "There will be a notebook for each one of the Machine Learning Pipeline steps:\n",
    "\n",
    "1. Data Analysis\n",
    "2. Feature Engineering\n",
    "3. Feature Selection\n",
    "4. Model Building\n",
    "\n",
    "**This is the notebook for step 1: Data Analysis**\n",
    "\n",
    "===================================================================================================\n",
    "\n",
    "\n",
    "## Predicting car price\n",
    "\n",
    "The aim of the project is to build a machine learning model to predict the price of a used car based up on the given data.\n",
    "\n",
    "### Why is this important?\n",
    "\n",
    "Purchasing a car is a desire shared by many families around the world. As a result, consumers will exercise extreme caution while selecting a vehicle, particularly if it is a used vehicle. One of the most difficult obstacles they face is determining the pricing. So, if we can assist clients in overcoming this key stumbling block, we will be able to improve their experience and acquire their trust. Also, if we can aid the seller in selling his car for a decent price, they will remain loyal to us.\n",
    "\n",
    "- If we predict low price for a good car, the seller may be dissatisfied \n",
    "- If we predict high price for a bad car, the client who purchased it may be dissatisfied.\n",
    "\n",
    "\n",
    "**We will analyse the dataset to identify:**\n",
    "\n",
    "1. Missing values\n",
    "2. Numerical variables\n",
    "3. Distribution of the numerical variables\n",
    "4. Outliers\n",
    "5. Categorical variables\n",
    "6. Cardinality of the categorical variables"
   ]
  },
  {
   "cell_type": "code",
   "execution_count": 1,
   "metadata": {
    "ExecuteTime": {
     "end_time": "2021-11-29T10:17:44.294693Z",
     "start_time": "2021-11-29T10:17:43.014758Z"
    },
    "tags": []
   },
   "outputs": [],
   "source": [
    "# to handle datasets\n",
    "import pandas as pd\n",
    "import numpy as np\n",
    "\n",
    "# for plotting\n",
    "import matplotlib.pyplot as plt\n",
    "%matplotlib inline\n",
    "import seaborn as sns\n",
    "import scipy.stats as stats\n",
    "sns.set(rc={'figure.figsize':(25.7,8.27)})\n",
    "\n",
    "\n",
    "# to display all the columns of the dataframe in the notebook\n",
    "pd.pandas.set_option('display.max_columns', 100)\n",
    "pd.pandas.set_option('display.max_rows', 100)\n",
    "#pd.set_option(\"precision\", 2)\n",
    "\n",
    "import warnings\n",
    "warnings.filterwarnings('ignore')\n",
    "\n",
    "%config Completer.use_jedi = False"
   ]
  },
  {
   "cell_type": "code",
   "execution_count": 3,
   "metadata": {
    "ExecuteTime": {
     "end_time": "2021-11-29T10:17:44.330701Z",
     "start_time": "2021-11-29T10:17:44.297372Z"
    },
    "tags": []
   },
   "outputs": [
    {
     "name": "stdout",
     "output_type": "stream",
     "text": [
      "(100, 8)\n"
     ]
    },
    {
     "data": {
      "text/html": [
       "<div>\n",
       "<style scoped>\n",
       "    .dataframe tbody tr th:only-of-type {\n",
       "        vertical-align: middle;\n",
       "    }\n",
       "\n",
       "    .dataframe tbody tr th {\n",
       "        vertical-align: top;\n",
       "    }\n",
       "\n",
       "    .dataframe thead th {\n",
       "        text-align: right;\n",
       "    }\n",
       "</style>\n",
       "<table border=\"1\" class=\"dataframe\">\n",
       "  <thead>\n",
       "    <tr style=\"text-align: right;\">\n",
       "      <th></th>\n",
       "      <th>AppID</th>\n",
       "      <th>Ins_Age</th>\n",
       "      <th>Ins_Gender</th>\n",
       "      <th>Ht</th>\n",
       "      <th>Wt</th>\n",
       "      <th>bmi</th>\n",
       "      <th>quote</th>\n",
       "      <th>reason</th>\n",
       "    </tr>\n",
       "  </thead>\n",
       "  <tbody>\n",
       "    <tr>\n",
       "      <th>0</th>\n",
       "      <td>56372</td>\n",
       "      <td>31</td>\n",
       "      <td>Male</td>\n",
       "      <td>510</td>\n",
       "      <td>185</td>\n",
       "      <td>26.5</td>\n",
       "      <td>500</td>\n",
       "      <td>BMI is in right range</td>\n",
       "    </tr>\n",
       "    <tr>\n",
       "      <th>1</th>\n",
       "      <td>34565</td>\n",
       "      <td>35</td>\n",
       "      <td>Male</td>\n",
       "      <td>510</td>\n",
       "      <td>205</td>\n",
       "      <td>29.4</td>\n",
       "      <td>500</td>\n",
       "      <td>BMI is in right range</td>\n",
       "    </tr>\n",
       "    <tr>\n",
       "      <th>2</th>\n",
       "      <td>57732</td>\n",
       "      <td>45</td>\n",
       "      <td>Female</td>\n",
       "      <td>510</td>\n",
       "      <td>125</td>\n",
       "      <td>17.9</td>\n",
       "      <td>900</td>\n",
       "      <td>Age is between 40 to 59 and 'BMI' is either le...</td>\n",
       "    </tr>\n",
       "    <tr>\n",
       "      <th>3</th>\n",
       "      <td>87324</td>\n",
       "      <td>38</td>\n",
       "      <td>Male</td>\n",
       "      <td>503</td>\n",
       "      <td>175</td>\n",
       "      <td>31.0</td>\n",
       "      <td>500</td>\n",
       "      <td>BMI is in right range</td>\n",
       "    </tr>\n",
       "    <tr>\n",
       "      <th>4</th>\n",
       "      <td>12323</td>\n",
       "      <td>39</td>\n",
       "      <td>Female</td>\n",
       "      <td>600</td>\n",
       "      <td>252</td>\n",
       "      <td>34.1</td>\n",
       "      <td>450</td>\n",
       "      <td>BMI is in right range</td>\n",
       "    </tr>\n",
       "  </tbody>\n",
       "</table>\n",
       "</div>"
      ],
      "text/plain": [
       "   AppID  Ins_Age Ins_Gender   Ht   Wt   bmi  quote  \\\n",
       "0  56372       31       Male  510  185  26.5    500   \n",
       "1  34565       35       Male  510  205  29.4    500   \n",
       "2  57732       45     Female  510  125  17.9    900   \n",
       "3  87324       38       Male  503  175  31.0    500   \n",
       "4  12323       39     Female  600  252  34.1    450   \n",
       "\n",
       "                                              reason  \n",
       "0                              BMI is in right range  \n",
       "1                              BMI is in right range  \n",
       "2  Age is between 40 to 59 and 'BMI' is either le...  \n",
       "3                              BMI is in right range  \n",
       "4                              BMI is in right range  "
      ]
     },
     "execution_count": 3,
     "metadata": {},
     "output_type": "execute_result"
    }
   ],
   "source": [
    "# load dataset\n",
    "data = pd.read_json('../data/training_data.json')\n",
    "\n",
    "# rows and columns of the data\n",
    "print(data.shape)\n",
    "\n",
    "# visualise the dataset\n",
    "data.head()"
   ]
  },
  {
   "cell_type": "code",
   "execution_count": 4,
   "metadata": {
    "ExecuteTime": {
     "end_time": "2021-11-29T10:17:44.354294Z",
     "start_time": "2021-11-29T10:17:44.334037Z"
    }
   },
   "outputs": [
    {
     "name": "stdout",
     "output_type": "stream",
     "text": [
      "<class 'pandas.core.frame.DataFrame'>\n",
      "Int64Index: 100 entries, 0 to 99\n",
      "Data columns (total 8 columns):\n",
      " #   Column      Non-Null Count  Dtype  \n",
      "---  ------      --------------  -----  \n",
      " 0   AppID       100 non-null    int64  \n",
      " 1   Ins_Age     100 non-null    int64  \n",
      " 2   Ins_Gender  100 non-null    object \n",
      " 3   Ht          100 non-null    int64  \n",
      " 4   Wt          100 non-null    int64  \n",
      " 5   bmi         100 non-null    float64\n",
      " 6   quote       100 non-null    int64  \n",
      " 7   reason      100 non-null    object \n",
      "dtypes: float64(1), int64(5), object(2)\n",
      "memory usage: 7.0+ KB\n"
     ]
    }
   ],
   "source": [
    "data.info()"
   ]
  },
  {
   "cell_type": "code",
   "execution_count": 4,
   "metadata": {
    "ExecuteTime": {
     "end_time": "2021-11-29T10:17:44.379031Z",
     "start_time": "2021-11-29T10:17:44.357253Z"
    },
    "tags": []
   },
   "outputs": [],
   "source": [
    "# changing the datatypes of fields.\n",
    "data['lot'] = data['lot'].astype('str')"
   ]
  },
  {
   "cell_type": "markdown",
   "metadata": {},
   "source": [
    "### Missing values\n",
    "\n",
    "Let's go ahead and find out which variables of the dataset contain missing values"
   ]
  },
  {
   "cell_type": "code",
   "execution_count": 5,
   "metadata": {
    "ExecuteTime": {
     "end_time": "2021-11-29T10:17:44.449115Z",
     "start_time": "2021-11-29T10:17:44.435535Z"
    },
    "tags": []
   },
   "outputs": [],
   "source": [
    "# make a list of the variables that contain missing values\n",
    "vars_with_na = [var for var in data.columns if data[var].isnull().sum()>1]\n",
    "\n",
    "# print the variable name and the percentage of missing values\n",
    "for var in vars_with_na:\n",
    "    print(var, np.round(data[var].isnull().mean(), 3),  ' % missing values')"
   ]
  },
  {
   "cell_type": "markdown",
   "metadata": {},
   "source": [
    "There are no missing rows in the Dataset"
   ]
  },
  {
   "cell_type": "markdown",
   "metadata": {},
   "source": [
    "### Numerical variables\n",
    "\n",
    "Let's go ahead and find out what numerical variables we have in the dataset"
   ]
  },
  {
   "cell_type": "code",
   "execution_count": 6,
   "metadata": {
    "ExecuteTime": {
     "end_time": "2021-11-29T10:17:44.465654Z",
     "start_time": "2021-11-29T10:17:44.451491Z"
    },
    "tags": []
   },
   "outputs": [
    {
     "name": "stdout",
     "output_type": "stream",
     "text": [
      "Number of numerical variables:  5\n"
     ]
    },
    {
     "data": {
      "text/html": [
       "<div>\n",
       "<style scoped>\n",
       "    .dataframe tbody tr th:only-of-type {\n",
       "        vertical-align: middle;\n",
       "    }\n",
       "\n",
       "    .dataframe tbody tr th {\n",
       "        vertical-align: top;\n",
       "    }\n",
       "\n",
       "    .dataframe thead th {\n",
       "        text-align: right;\n",
       "    }\n",
       "</style>\n",
       "<table border=\"1\" class=\"dataframe\">\n",
       "  <thead>\n",
       "    <tr style=\"text-align: right;\">\n",
       "      <th></th>\n",
       "      <th>AppID</th>\n",
       "      <th>Ht</th>\n",
       "      <th>Wt</th>\n",
       "      <th>bmi</th>\n",
       "      <th>quote</th>\n",
       "    </tr>\n",
       "  </thead>\n",
       "  <tbody>\n",
       "    <tr>\n",
       "      <th>0</th>\n",
       "      <td>56372</td>\n",
       "      <td>510</td>\n",
       "      <td>185</td>\n",
       "      <td>26.5</td>\n",
       "      <td>500</td>\n",
       "    </tr>\n",
       "    <tr>\n",
       "      <th>1</th>\n",
       "      <td>34565</td>\n",
       "      <td>510</td>\n",
       "      <td>205</td>\n",
       "      <td>29.4</td>\n",
       "      <td>500</td>\n",
       "    </tr>\n",
       "    <tr>\n",
       "      <th>2</th>\n",
       "      <td>57732</td>\n",
       "      <td>510</td>\n",
       "      <td>125</td>\n",
       "      <td>17.9</td>\n",
       "      <td>900</td>\n",
       "    </tr>\n",
       "    <tr>\n",
       "      <th>3</th>\n",
       "      <td>87324</td>\n",
       "      <td>503</td>\n",
       "      <td>175</td>\n",
       "      <td>31.0</td>\n",
       "      <td>500</td>\n",
       "    </tr>\n",
       "    <tr>\n",
       "      <th>4</th>\n",
       "      <td>12323</td>\n",
       "      <td>600</td>\n",
       "      <td>252</td>\n",
       "      <td>34.1</td>\n",
       "      <td>450</td>\n",
       "    </tr>\n",
       "  </tbody>\n",
       "</table>\n",
       "</div>"
      ],
      "text/plain": [
       "   AppID   Ht   Wt   bmi  quote\n",
       "0  56372  510  185  26.5    500\n",
       "1  34565  510  205  29.4    500\n",
       "2  57732  510  125  17.9    900\n",
       "3  87324  503  175  31.0    500\n",
       "4  12323  600  252  34.1    450"
      ]
     },
     "execution_count": 6,
     "metadata": {},
     "output_type": "execute_result"
    }
   ],
   "source": [
    "# list of numerical variables\n",
    "num_vars = [var for var in data.columns if data[var].dtypes in [\"int64\",\"float64\"]]\n",
    "del num_vars[1]\n",
    "\n",
    "print('Number of numerical variables: ', len(num_vars))\n",
    "\n",
    "# visualise the numerical variables\n",
    "data[num_vars].head()"
   ]
  },
  {
   "cell_type": "markdown",
   "metadata": {},
   "source": [
    "### Discrete variables\n",
    "\n",
    "Let's go ahead and find which variables are discrete, i.e., show a finite number of values"
   ]
  },
  {
   "cell_type": "code",
   "execution_count": 7,
   "metadata": {
    "ExecuteTime": {
     "end_time": "2021-11-29T10:17:44.475251Z",
     "start_time": "2021-11-29T10:17:44.468531Z"
    },
    "tags": []
   },
   "outputs": [
    {
     "name": "stdout",
     "output_type": "stream",
     "text": [
      "Number of discrete variables:  2\n"
     ]
    }
   ],
   "source": [
    "#  list of discrete variables\n",
    "discrete_vars = [var for var in num_vars if len(data[var].unique())<20]\n",
    "\n",
    "print('Number of discrete variables: ', len(discrete_vars))"
   ]
  },
  {
   "cell_type": "markdown",
   "metadata": {},
   "source": [
    "### Continuous variables\n",
    "\n",
    "Let's go ahead and find the distribution of the continuous variables. We will consider continuous as all those numerical variables that are not discrete variables in our dataset."
   ]
  },
  {
   "cell_type": "code",
   "execution_count": 8,
   "metadata": {
    "ExecuteTime": {
     "end_time": "2021-11-29T10:17:44.488588Z",
     "start_time": "2021-11-29T10:17:44.482871Z"
    },
    "tags": []
   },
   "outputs": [
    {
     "name": "stdout",
     "output_type": "stream",
     "text": [
      "Number of continuous variables:  3\n"
     ]
    }
   ],
   "source": [
    "# list of continuous variables\n",
    "cont_vars = [var for var in num_vars if len(data[var].unique())>20]\n",
    "\n",
    "print('Number of continuous variables: ', len(cont_vars))"
   ]
  },
  {
   "cell_type": "code",
   "execution_count": 9,
   "metadata": {
    "ExecuteTime": {
     "end_time": "2021-11-29T10:17:44.518121Z",
     "start_time": "2021-11-29T10:17:44.494349Z"
    },
    "tags": []
   },
   "outputs": [
    {
     "data": {
      "text/html": [
       "<div>\n",
       "<style scoped>\n",
       "    .dataframe tbody tr th:only-of-type {\n",
       "        vertical-align: middle;\n",
       "    }\n",
       "\n",
       "    .dataframe tbody tr th {\n",
       "        vertical-align: top;\n",
       "    }\n",
       "\n",
       "    .dataframe thead th {\n",
       "        text-align: right;\n",
       "    }\n",
       "</style>\n",
       "<table border=\"1\" class=\"dataframe\">\n",
       "  <thead>\n",
       "    <tr style=\"text-align: right;\">\n",
       "      <th></th>\n",
       "      <th>AppID</th>\n",
       "      <th>Wt</th>\n",
       "      <th>bmi</th>\n",
       "    </tr>\n",
       "  </thead>\n",
       "  <tbody>\n",
       "    <tr>\n",
       "      <th>count</th>\n",
       "      <td>100.00</td>\n",
       "      <td>100.00</td>\n",
       "      <td>100.00</td>\n",
       "    </tr>\n",
       "    <tr>\n",
       "      <th>mean</th>\n",
       "      <td>79455.57</td>\n",
       "      <td>165.15</td>\n",
       "      <td>25.05</td>\n",
       "    </tr>\n",
       "    <tr>\n",
       "      <th>std</th>\n",
       "      <td>31123.73</td>\n",
       "      <td>27.66</td>\n",
       "      <td>4.92</td>\n",
       "    </tr>\n",
       "    <tr>\n",
       "      <th>min</th>\n",
       "      <td>12123.00</td>\n",
       "      <td>110.00</td>\n",
       "      <td>15.40</td>\n",
       "    </tr>\n",
       "    <tr>\n",
       "      <th>25%</th>\n",
       "      <td>64296.00</td>\n",
       "      <td>145.00</td>\n",
       "      <td>22.05</td>\n",
       "    </tr>\n",
       "    <tr>\n",
       "      <th>50%</th>\n",
       "      <td>99444.50</td>\n",
       "      <td>170.00</td>\n",
       "      <td>25.10</td>\n",
       "    </tr>\n",
       "    <tr>\n",
       "      <th>75%</th>\n",
       "      <td>99917.00</td>\n",
       "      <td>180.00</td>\n",
       "      <td>28.23</td>\n",
       "    </tr>\n",
       "    <tr>\n",
       "      <th>max</th>\n",
       "      <td>100345.00</td>\n",
       "      <td>275.00</td>\n",
       "      <td>39.40</td>\n",
       "    </tr>\n",
       "  </tbody>\n",
       "</table>\n",
       "</div>"
      ],
      "text/plain": [
       "           AppID      Wt     bmi\n",
       "count     100.00  100.00  100.00\n",
       "mean    79455.57  165.15   25.05\n",
       "std     31123.73   27.66    4.92\n",
       "min     12123.00  110.00   15.40\n",
       "25%     64296.00  145.00   22.05\n",
       "50%     99444.50  170.00   25.10\n",
       "75%     99917.00  180.00   28.23\n",
       "max    100345.00  275.00   39.40"
      ]
     },
     "execution_count": 9,
     "metadata": {},
     "output_type": "execute_result"
    }
   ],
   "source": [
    "# let's visualise the continuous variables\n",
    "data[cont_vars].describe().apply(lambda s: s.apply('{0:.2f}'.format))"
   ]
  },
  {
   "cell_type": "markdown",
   "metadata": {
    "execution": {
     "iopub.execute_input": "2021-05-26T18:49:25.823884Z",
     "iopub.status.busy": "2021-05-26T18:49:25.823490Z",
     "iopub.status.idle": "2021-05-26T18:49:25.830432Z",
     "shell.execute_reply": "2021-05-26T18:49:25.828877Z",
     "shell.execute_reply.started": "2021-05-26T18:49:25.823850Z"
    }
   },
   "source": [
    "I assumed price in \\\\$ and mileage in miles\n",
    "\n",
    "From the above stats we can understand that the \n",
    "- Median car price  is 16900\\\\$ and mean is 18767\\\\$.  As mean is greater than median this distribution is right skewed.\n",
    "- Median mileage is 35365 miles and mean is 52298 miles. As mean is greater than median this distribution is right skewed.\n",
    "\n",
    "There are few cars in the dataset with a mileage of 0 miles and a price of 0$. And some of them have a mileage of more than 500,000 miles, which are usually considered as outliers. Later in my notebook, I dealt with them.\n",
    "\n"
   ]
  },
  {
   "cell_type": "code",
   "execution_count": 10,
   "metadata": {
    "ExecuteTime": {
     "end_time": "2021-11-29T10:17:45.077601Z",
     "start_time": "2021-11-29T10:17:44.527249Z"
    },
    "tags": []
   },
   "outputs": [
    {
     "data": {
      "image/png": "[encoded data removed]",
      "text/plain": [
       "<Figure size 1850.4x595.44 with 1 Axes>"
      ]
     },
     "metadata": {},
     "output_type": "display_data"
    },
    {
     "data": {
      "image/png": "[encoded data removed]",
      "text/plain": [
       "<Figure size 1850.4x595.44 with 1 Axes>"
      ]
     },
     "metadata": {},
     "output_type": "display_data"
    },
    {
     "data": {
      "image/png": "[encoded data removed]",
      "text/plain": [
       "<Figure size 1850.4x595.44 with 1 Axes>"
      ]
     },
     "metadata": {},
     "output_type": "display_data"
    }
   ],
   "source": [
    "# Let's go ahead and analyse the distributions of these variables\n",
    "def analyse_continous(df, var):\n",
    "    df = df.copy()\n",
    "    plt.hist(df[var], bins=30)\n",
    "    plt.ylabel('# of cars',fontsize=18)\n",
    "    plt.xlabel(var,fontsize=18)\n",
    "    plt.title(var,fontsize=18)\n",
    "    plt.show()\n",
    "    \n",
    "for var in cont_vars:\n",
    "    analyse_continous(data, var)"
   ]
  },
  {
   "cell_type": "markdown",
   "metadata": {},
   "source": [
    "As we thought before, price and mileage variables are skewed to the right and they are not normally distributed. We can apply power transformation like log transformation to these variables to convert the distributions to normal."
   ]
  },
  {
   "cell_type": "markdown",
   "metadata": {},
   "source": [
    "### Removing the outliers from the continous variables\n",
    "\n",
    "As we have seen above there are few outliers on the dataset and I have removed them here. For the sake of simplicity I just removed the values which are less than 3 percentile and more than 97 percentile."
   ]
  },
  {
   "cell_type": "code",
   "execution_count": 11,
   "metadata": {
    "ExecuteTime": {
     "end_time": "2021-11-29T10:17:45.439200Z",
     "start_time": "2021-11-29T10:17:45.079687Z"
    },
    "tags": []
   },
   "outputs": [
    {
     "data": {
      "image/png": "[encoded data removed]",
      "text/plain": [
       "<Figure size 1850.4x595.44 with 1 Axes>"
      ]
     },
     "metadata": {},
     "output_type": "display_data"
    },
    {
     "data": {
      "image/png": "[encoded data removed]",
      "text/plain": [
       "<Figure size 1850.4x595.44 with 1 Axes>"
      ]
     },
     "metadata": {},
     "output_type": "display_data"
    },
    {
     "data": {
      "image/png": "[encoded data removed]",
      "text/plain": [
       "<Figure size 1850.4x595.44 with 1 Axes>"
      ]
     },
     "metadata": {},
     "output_type": "display_data"
    }
   ],
   "source": [
    "# let's make boxplots to visualise outliers in the continuous variables \n",
    "\n",
    "def find_outliers(df, var):\n",
    "    df = df.copy()\n",
    "    df.boxplot(column=var)\n",
    "    plt.title(var)\n",
    "    plt.ylabel(var)\n",
    "    plt.show()\n",
    "    \n",
    "for var in cont_vars:\n",
    "    find_outliers(data, var)"
   ]
  },
  {
   "cell_type": "markdown",
   "metadata": {},
   "source": [
    "## Applying log transformation\n",
    "\n",
    "We can apply a log transformation to variables like Price and mileage to get a more normal like distribution. "
   ]
  },
  {
   "cell_type": "markdown",
   "metadata": {
    "execution": {
     "iopub.execute_input": "2021-05-27T03:50:23.161483Z",
     "iopub.status.busy": "2021-05-27T03:50:23.159816Z",
     "iopub.status.idle": "2021-05-27T03:50:23.167543Z",
     "shell.execute_reply": "2021-05-27T03:50:23.166665Z",
     "shell.execute_reply.started": "2021-05-27T03:50:23.161456Z"
    }
   },
   "source": [
    "After applying the log transformations, we can see that the variable distribution resembles like a normal distribution."
   ]
  },
  {
   "cell_type": "markdown",
   "metadata": {},
   "source": [
    "### Temporal variables"
   ]
  },
  {
   "cell_type": "markdown",
   "metadata": {},
   "source": [
    "The preceding graphs show that the median price is high for the years 2015 through 2021, as well as for a few cars before 1980. This is to be expected, given the great demand for the most recent vehicles. The high price of the car before 1980 is attributed to a model of Chevrolet Camaro that might be classified as a vintage car."
   ]
  },
  {
   "cell_type": "markdown",
   "metadata": {},
   "source": [
    "### Categorical variables\n",
    "\n",
    "Let's analyse the categorical variables present in the dataset."
   ]
  },
  {
   "cell_type": "code",
   "execution_count": 13,
   "metadata": {
    "ExecuteTime": {
     "end_time": "2021-11-29T10:17:46.168214Z",
     "start_time": "2021-11-29T10:17:46.164278Z"
    }
   },
   "outputs": [],
   "source": [
    "# dropping key columns form the dataset\n",
    "data.drop(['AppID','reason'],inplace=True,axis=1)"
   ]
  },
  {
   "cell_type": "code",
   "execution_count": 14,
   "metadata": {},
   "outputs": [
    {
     "data": {
      "text/html": [
       "<div>\n",
       "<style scoped>\n",
       "    .dataframe tbody tr th:only-of-type {\n",
       "        vertical-align: middle;\n",
       "    }\n",
       "\n",
       "    .dataframe tbody tr th {\n",
       "        vertical-align: top;\n",
       "    }\n",
       "\n",
       "    .dataframe thead th {\n",
       "        text-align: right;\n",
       "    }\n",
       "</style>\n",
       "<table border=\"1\" class=\"dataframe\">\n",
       "  <thead>\n",
       "    <tr style=\"text-align: right;\">\n",
       "      <th></th>\n",
       "      <th>Ins_Age</th>\n",
       "      <th>Ins_Gender</th>\n",
       "      <th>Ht</th>\n",
       "      <th>Wt</th>\n",
       "      <th>bmi</th>\n",
       "      <th>quote</th>\n",
       "    </tr>\n",
       "  </thead>\n",
       "  <tbody>\n",
       "    <tr>\n",
       "      <th>0</th>\n",
       "      <td>31</td>\n",
       "      <td>Male</td>\n",
       "      <td>510</td>\n",
       "      <td>185</td>\n",
       "      <td>26.5</td>\n",
       "      <td>500</td>\n",
       "    </tr>\n",
       "    <tr>\n",
       "      <th>1</th>\n",
       "      <td>35</td>\n",
       "      <td>Male</td>\n",
       "      <td>510</td>\n",
       "      <td>205</td>\n",
       "      <td>29.4</td>\n",
       "      <td>500</td>\n",
       "    </tr>\n",
       "    <tr>\n",
       "      <th>2</th>\n",
       "      <td>45</td>\n",
       "      <td>Female</td>\n",
       "      <td>510</td>\n",
       "      <td>125</td>\n",
       "      <td>17.9</td>\n",
       "      <td>900</td>\n",
       "    </tr>\n",
       "    <tr>\n",
       "      <th>3</th>\n",
       "      <td>38</td>\n",
       "      <td>Male</td>\n",
       "      <td>503</td>\n",
       "      <td>175</td>\n",
       "      <td>31.0</td>\n",
       "      <td>500</td>\n",
       "    </tr>\n",
       "    <tr>\n",
       "      <th>4</th>\n",
       "      <td>39</td>\n",
       "      <td>Female</td>\n",
       "      <td>600</td>\n",
       "      <td>252</td>\n",
       "      <td>34.1</td>\n",
       "      <td>450</td>\n",
       "    </tr>\n",
       "  </tbody>\n",
       "</table>\n",
       "</div>"
      ],
      "text/plain": [
       "   Ins_Age Ins_Gender   Ht   Wt   bmi  quote\n",
       "0       31       Male  510  185  26.5    500\n",
       "1       35       Male  510  205  29.4    500\n",
       "2       45     Female  510  125  17.9    900\n",
       "3       38       Male  503  175  31.0    500\n",
       "4       39     Female  600  252  34.1    450"
      ]
     },
     "execution_count": 14,
     "metadata": {},
     "output_type": "execute_result"
    }
   ],
   "source": [
    "data.head()"
   ]
  },
  {
   "cell_type": "code",
   "execution_count": 15,
   "metadata": {
    "ExecuteTime": {
     "end_time": "2021-11-29T10:17:46.177853Z",
     "start_time": "2021-11-29T10:17:46.170418Z"
    },
    "tags": []
   },
   "outputs": [
    {
     "name": "stdout",
     "output_type": "stream",
     "text": [
      "Number of categorical variables:  1\n"
     ]
    }
   ],
   "source": [
    "cat_vars = [var for var in data.columns if data[var].dtypes in ['object']]\n",
    "\n",
    "print('Number of categorical variables: ', len(cat_vars))"
   ]
  },
  {
   "cell_type": "code",
   "execution_count": 16,
   "metadata": {
    "ExecuteTime": {
     "end_time": "2021-11-29T10:17:46.195524Z",
     "start_time": "2021-11-29T10:17:46.180392Z"
    },
    "tags": []
   },
   "outputs": [
    {
     "data": {
      "text/html": [
       "<div>\n",
       "<style scoped>\n",
       "    .dataframe tbody tr th:only-of-type {\n",
       "        vertical-align: middle;\n",
       "    }\n",
       "\n",
       "    .dataframe tbody tr th {\n",
       "        vertical-align: top;\n",
       "    }\n",
       "\n",
       "    .dataframe thead th {\n",
       "        text-align: right;\n",
       "    }\n",
       "</style>\n",
       "<table border=\"1\" class=\"dataframe\">\n",
       "  <thead>\n",
       "    <tr style=\"text-align: right;\">\n",
       "      <th></th>\n",
       "      <th>Ins_Gender</th>\n",
       "    </tr>\n",
       "  </thead>\n",
       "  <tbody>\n",
       "    <tr>\n",
       "      <th>0</th>\n",
       "      <td>Male</td>\n",
       "    </tr>\n",
       "    <tr>\n",
       "      <th>1</th>\n",
       "      <td>Male</td>\n",
       "    </tr>\n",
       "    <tr>\n",
       "      <th>2</th>\n",
       "      <td>Female</td>\n",
       "    </tr>\n",
       "    <tr>\n",
       "      <th>3</th>\n",
       "      <td>Male</td>\n",
       "    </tr>\n",
       "    <tr>\n",
       "      <th>4</th>\n",
       "      <td>Female</td>\n",
       "    </tr>\n",
       "  </tbody>\n",
       "</table>\n",
       "</div>"
      ],
      "text/plain": [
       "  Ins_Gender\n",
       "0       Male\n",
       "1       Male\n",
       "2     Female\n",
       "3       Male\n",
       "4     Female"
      ]
     },
     "execution_count": 16,
     "metadata": {},
     "output_type": "execute_result"
    }
   ],
   "source": [
    "# let's visualise the values of the categorical variables\n",
    "data[cat_vars].head()"
   ]
  },
  {
   "cell_type": "markdown",
   "metadata": {},
   "source": [
    "We can deduce the following from the charts above:\n",
    "- BMW and Audi have higher median prices than the other brands.\n",
    "- As expected, the median price of a clean vehicle is higher than the median price of a damaged vehicle (salvage insurance). \n",
    "- The median price of a vehicle in Kentucky is greater than the other states, and the price range is narrow."
   ]
  },
  {
   "cell_type": "markdown",
   "metadata": {},
   "source": [
    "### Rare Labels\n",
    "\n",
    "Let's investigate now if there are labels that are present only in a small number:"
   ]
  },
  {
   "cell_type": "code",
   "execution_count": 18,
   "metadata": {
    "ExecuteTime": {
     "end_time": "2021-11-29T10:17:53.745829Z",
     "start_time": "2021-11-29T10:17:53.740480Z"
    },
    "tags": []
   },
   "outputs": [
    {
     "name": "stdout",
     "output_type": "stream",
     "text": [
      "Ins_Gender has 2  categories\n"
     ]
    }
   ],
   "source": [
    "for var in cat_vars:\n",
    "    print(var,\"has\", len(data[var].unique()), ' categories')"
   ]
  },
  {
   "cell_type": "markdown",
   "metadata": {},
   "source": [
    "Cardinality of features like model, color and state is very high. Lets find out if there are any rare labels in the dataset and replace them with a new category called \"rare\""
   ]
  },
  {
   "cell_type": "code",
   "execution_count": 19,
   "metadata": {
    "ExecuteTime": {
     "end_time": "2021-11-29T10:17:53.783676Z",
     "start_time": "2021-11-29T10:17:53.755294Z"
    },
    "scrolled": true,
    "tags": []
   },
   "outputs": [
    {
     "name": "stdout",
     "output_type": "stream",
     "text": [
      "Series([], Name: Ins_Gender, dtype: float64)\n",
      "\n"
     ]
    }
   ],
   "source": [
    "def analyse_rare_labels(df, var, rare_perc):\n",
    "    df = df.copy()\n",
    "    tmp = df.groupby(var)[var].count() / len(df)\n",
    "    return tmp[tmp<rare_perc]*100\n",
    "\n",
    "for var in cat_vars:\n",
    "    print(analyse_rare_labels(data, var, 0.005))\n",
    "    print()\n"
   ]
  },
  {
   "cell_type": "markdown",
   "metadata": {},
   "source": [
    "From the above data we can infer that in the variables \"brand\",\"Model\", \"state\" and \"country\" there are few categories which are present in less than 0.5% of the rows. In the next notebook I have replaced them with a new category called \"rare\"."
   ]
  },
  {
   "cell_type": "markdown",
   "metadata": {},
   "source": [
    "## Possible Data leakage\n",
    "\n",
    "The auction time (condition) is usually displayed after the car is advertised on the website. So, I assumed that this can lead to data leakage and I didn’t incorporated this characteristic in the model's training. This assumption might be wrong.\n"
   ]
  },
  {
   "cell_type": "code",
   "execution_count": 21,
   "metadata": {
    "ExecuteTime": {
     "end_time": "2021-11-29T10:17:54.331682Z",
     "start_time": "2021-11-29T10:17:53.815335Z"
    },
    "tags": []
   },
   "outputs": [],
   "source": [
    "# saving the data\n",
    "data.to_csv('../data/output/step1data.csv', index=False)"
   ]
  },
  {
   "cell_type": "code",
   "execution_count": null,
   "metadata": {},
   "outputs": [],
   "source": []
  }
 ],
 "metadata": {
  "kernelspec": {
   "display_name": "Python 3",
   "language": "python",
   "name": "python3"
  },
  "language_info": {
   "codemirror_mode": {
    "name": "ipython",
    "version": 3
   },
   "file_extension": ".py",
   "mimetype": "text/x-python",
   "name": "python",
   "nbconvert_exporter": "python",
   "pygments_lexer": "ipython3",
   "version": "3.9.0"
  }
 },
 "nbformat": 4,
 "nbformat_minor": 4
}

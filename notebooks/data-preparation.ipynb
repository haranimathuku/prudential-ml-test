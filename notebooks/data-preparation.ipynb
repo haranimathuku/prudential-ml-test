{
 "cells": [
  {
   "cell_type": "code",
   "execution_count": 18,
   "metadata": {},
   "outputs": [
    {
     "name": "stderr",
     "output_type": "stream",
     "text": [
      "UsageError: Line magic function `%` not found.\n"
     ]
    }
   ],
   "source": [
    "# to handle datasets\n",
    "import pandas as pd\n",
    "import numpy as np\n",
    "\n",
    "# for plotting\n",
    "import matplotlib.pyplot as plt\n",
    "import seaborn as sns\n",
    "% matplotlib inline\n",
    "\n",
    "# to display all the columns of the dataframe in the notebook\n",
    "pd.pandas.set_option('display.max_columns', None)"
   ]
  },
  {
   "cell_type": "code",
   "execution_count": 30,
   "metadata": {},
   "outputs": [
    {
     "name": "stdout",
     "output_type": "stream",
     "text": [
      "(100, 6)\n"
     ]
    },
    {
     "data": {
      "text/html": [
       "<div>\n",
       "<style scoped>\n",
       "    .dataframe tbody tr th:only-of-type {\n",
       "        vertical-align: middle;\n",
       "    }\n",
       "\n",
       "    .dataframe tbody tr th {\n",
       "        vertical-align: top;\n",
       "    }\n",
       "\n",
       "    .dataframe thead th {\n",
       "        text-align: right;\n",
       "    }\n",
       "</style>\n",
       "<table border=\"1\" class=\"dataframe\">\n",
       "  <thead>\n",
       "    <tr style=\"text-align: right;\">\n",
       "      <th></th>\n",
       "      <th>AppID</th>\n",
       "      <th>Ins_Age</th>\n",
       "      <th>Ins_Gender</th>\n",
       "      <th>Ht</th>\n",
       "      <th>Wt</th>\n",
       "      <th>IssueDate</th>\n",
       "    </tr>\n",
       "  </thead>\n",
       "  <tbody>\n",
       "    <tr>\n",
       "      <th>0</th>\n",
       "      <td>56372</td>\n",
       "      <td>31</td>\n",
       "      <td>Male</td>\n",
       "      <td>510</td>\n",
       "      <td>185</td>\n",
       "      <td>NaN</td>\n",
       "    </tr>\n",
       "    <tr>\n",
       "      <th>1</th>\n",
       "      <td>34565</td>\n",
       "      <td>35</td>\n",
       "      <td>Male</td>\n",
       "      <td>510</td>\n",
       "      <td>205</td>\n",
       "      <td>NaN</td>\n",
       "    </tr>\n",
       "    <tr>\n",
       "      <th>2</th>\n",
       "      <td>57732</td>\n",
       "      <td>45</td>\n",
       "      <td>Female</td>\n",
       "      <td>510</td>\n",
       "      <td>125</td>\n",
       "      <td>NaN</td>\n",
       "    </tr>\n",
       "    <tr>\n",
       "      <th>3</th>\n",
       "      <td>87324</td>\n",
       "      <td>38</td>\n",
       "      <td>Male</td>\n",
       "      <td>503</td>\n",
       "      <td>175</td>\n",
       "      <td>NaN</td>\n",
       "    </tr>\n",
       "    <tr>\n",
       "      <th>4</th>\n",
       "      <td>12323</td>\n",
       "      <td>39</td>\n",
       "      <td>Female</td>\n",
       "      <td>600</td>\n",
       "      <td>252</td>\n",
       "      <td>NaN</td>\n",
       "    </tr>\n",
       "  </tbody>\n",
       "</table>\n",
       "</div>"
      ],
      "text/plain": [
       "   AppID  Ins_Age Ins_Gender   Ht   Wt  IssueDate\n",
       "0  56372       31       Male  510  185        NaN\n",
       "1  34565       35       Male  510  205        NaN\n",
       "2  57732       45     Female  510  125        NaN\n",
       "3  87324       38       Male  503  175        NaN\n",
       "4  12323       39     Female  600  252        NaN"
      ]
     },
     "execution_count": 30,
     "metadata": {},
     "output_type": "execute_result"
    }
   ],
   "source": [
    "# load dataset\n",
    "data = pd.read_csv(\"../data/Dummy-Data.csv\")\n",
    "\n",
    "# rows and columns of the data\n",
    "print(data.shape)\n",
    "\n",
    "# visualise the dataset\n",
    "data.head()"
   ]
  },
  {
   "cell_type": "markdown",
   "metadata": {},
   "source": [
    "### Missing values\n",
    "\n",
    "Let's go ahead and find out which variables of the dataset contain missing values"
   ]
  },
  {
   "cell_type": "code",
   "execution_count": 31,
   "metadata": {},
   "outputs": [
    {
     "name": "stdout",
     "output_type": "stream",
     "text": [
      "IssueDate 100 % missing values\n"
     ]
    }
   ],
   "source": [
    "# make a list of the variables that contain missing values\n",
    "vars_with_na = [var for var in data.columns if data[var].isnull().sum()>1]\n",
    "\n",
    "# print the variable name and the percentage of missing values\n",
    "for var in vars_with_na:\n",
    "    print(var, np.round(data[var].isnull().sum(), 3),  '% missing values')"
   ]
  },
  {
   "cell_type": "markdown",
   "metadata": {},
   "source": [
    "##### \n",
    "\n",
    "As the IssueDate feature contains 100% missing values we can drop this column"
   ]
  },
  {
   "cell_type": "code",
   "execution_count": 32,
   "metadata": {},
   "outputs": [],
   "source": [
    "data.drop([\"IssueDate\"], axis=1, inplace=True)"
   ]
  },
  {
   "cell_type": "markdown",
   "metadata": {},
   "source": [
    "## BMI Calculation"
   ]
  },
  {
   "cell_type": "code",
   "execution_count": 33,
   "metadata": {},
   "outputs": [],
   "source": [
    "def calc_bmi(row: pd.DataFrame):\n",
    "    height_str = str(row[\"Ht\"])\n",
    "    height = float((int(height_str[0])*30.48 + int(height_str[1:3])*2.54)/100)\n",
    "    weight = float(row[\"Wt\"]*0.453)\n",
    "    return round(weight/(height*height),1)"
   ]
  },
  {
   "cell_type": "code",
   "execution_count": 34,
   "metadata": {},
   "outputs": [
    {
     "data": {
      "text/html": [
       "<div>\n",
       "<style scoped>\n",
       "    .dataframe tbody tr th:only-of-type {\n",
       "        vertical-align: middle;\n",
       "    }\n",
       "\n",
       "    .dataframe tbody tr th {\n",
       "        vertical-align: top;\n",
       "    }\n",
       "\n",
       "    .dataframe thead th {\n",
       "        text-align: right;\n",
       "    }\n",
       "</style>\n",
       "<table border=\"1\" class=\"dataframe\">\n",
       "  <thead>\n",
       "    <tr style=\"text-align: right;\">\n",
       "      <th></th>\n",
       "      <th>AppID</th>\n",
       "      <th>Ins_Age</th>\n",
       "      <th>Ins_Gender</th>\n",
       "      <th>Ht</th>\n",
       "      <th>Wt</th>\n",
       "      <th>bmi</th>\n",
       "    </tr>\n",
       "  </thead>\n",
       "  <tbody>\n",
       "    <tr>\n",
       "      <th>0</th>\n",
       "      <td>56372</td>\n",
       "      <td>31</td>\n",
       "      <td>Male</td>\n",
       "      <td>510</td>\n",
       "      <td>185</td>\n",
       "      <td>26.5</td>\n",
       "    </tr>\n",
       "    <tr>\n",
       "      <th>1</th>\n",
       "      <td>34565</td>\n",
       "      <td>35</td>\n",
       "      <td>Male</td>\n",
       "      <td>510</td>\n",
       "      <td>205</td>\n",
       "      <td>29.4</td>\n",
       "    </tr>\n",
       "    <tr>\n",
       "      <th>2</th>\n",
       "      <td>57732</td>\n",
       "      <td>45</td>\n",
       "      <td>Female</td>\n",
       "      <td>510</td>\n",
       "      <td>125</td>\n",
       "      <td>17.9</td>\n",
       "    </tr>\n",
       "    <tr>\n",
       "      <th>3</th>\n",
       "      <td>87324</td>\n",
       "      <td>38</td>\n",
       "      <td>Male</td>\n",
       "      <td>503</td>\n",
       "      <td>175</td>\n",
       "      <td>31.0</td>\n",
       "    </tr>\n",
       "    <tr>\n",
       "      <th>4</th>\n",
       "      <td>12323</td>\n",
       "      <td>39</td>\n",
       "      <td>Female</td>\n",
       "      <td>600</td>\n",
       "      <td>252</td>\n",
       "      <td>34.1</td>\n",
       "    </tr>\n",
       "  </tbody>\n",
       "</table>\n",
       "</div>"
      ],
      "text/plain": [
       "   AppID  Ins_Age Ins_Gender   Ht   Wt   bmi\n",
       "0  56372       31       Male  510  185  26.5\n",
       "1  34565       35       Male  510  205  29.4\n",
       "2  57732       45     Female  510  125  17.9\n",
       "3  87324       38       Male  503  175  31.0\n",
       "4  12323       39     Female  600  252  34.1"
      ]
     },
     "execution_count": 34,
     "metadata": {},
     "output_type": "execute_result"
    }
   ],
   "source": [
    "data[\"bmi\"] = data.apply(calc_bmi, axis=1)\n",
    "data.head()"
   ]
  },
  {
   "cell_type": "markdown",
   "metadata": {},
   "source": [
    "### Quote Calculation"
   ]
  },
  {
   "cell_type": "code",
   "execution_count": 35,
   "metadata": {},
   "outputs": [],
   "source": [
    "def calc_quote(row: pd.DataFrame, discount: int):\n",
    "    if 18<row[\"Ins_Age\"]<39 and (row[\"bmi\"]<17.49 or row[\"bmi\"]>38.5):\n",
    "        return 750 if row[\"Ins_Gender\"]==\"Male\" else 750 - (750*discount/100)\n",
    "    elif 40<row[\"Ins_Age\"]<59 and (row[\"bmi\"]<18.49 or row[\"bmi\"]>38.5):\n",
    "        return 1000 if row[\"Ins_Gender\"]==\"Male\" else 1000 - (1000*discount/100)\n",
    "    elif row[\"Ins_Age\"]>60 and (row[\"bmi\"]<18.49 or row[\"bmi\"]>45.5):\n",
    "        return 2000 if row[\"Ins_Gender\"]==\"Male\" else 2000 - (2000*discount/100)\n",
    "    else:\n",
    "        return 500 if row[\"Ins_Gender\"]==\"Male\" else 500 - (500*discount/100)\n"
   ]
  },
  {
   "cell_type": "code",
   "execution_count": 36,
   "metadata": {},
   "outputs": [],
   "source": [
    "def find_reason(row: pd.DataFrame):\n",
    "    if 18<row[\"Ins_Age\"]<39 and (row[\"bmi\"]<17.49 or row[\"bmi\"]>38.5):\n",
    "        return \"Age is between 18 to 39 and BMI is either less than 17.49 or greater than 38.5\"\n",
    "    elif 40<row[\"Ins_Age\"]<59 and (row[\"bmi\"]<18.49 or row[\"bmi\"]>38.5):\n",
    "        return \"Age is between 40 to 59 and 'BMI' is either less than 18.49 or greater then 38.5\"\n",
    "    elif row[\"Ins_Age\"]>60 and (row[\"bmi\"]<18.49 or row[\"bmi\"]>45.5):\n",
    "        return \"Age is greater than 60 and 'BMI' is either less than 18.49 or greater than 38.5\"\n",
    "    else:\n",
    "        return \"BMI is in right range\""
   ]
  },
  {
   "cell_type": "code",
   "execution_count": 37,
   "metadata": {},
   "outputs": [
    {
     "data": {
      "text/html": [
       "<div>\n",
       "<style scoped>\n",
       "    .dataframe tbody tr th:only-of-type {\n",
       "        vertical-align: middle;\n",
       "    }\n",
       "\n",
       "    .dataframe tbody tr th {\n",
       "        vertical-align: top;\n",
       "    }\n",
       "\n",
       "    .dataframe thead th {\n",
       "        text-align: right;\n",
       "    }\n",
       "</style>\n",
       "<table border=\"1\" class=\"dataframe\">\n",
       "  <thead>\n",
       "    <tr style=\"text-align: right;\">\n",
       "      <th></th>\n",
       "      <th>AppID</th>\n",
       "      <th>Ins_Age</th>\n",
       "      <th>Ins_Gender</th>\n",
       "      <th>Ht</th>\n",
       "      <th>Wt</th>\n",
       "      <th>bmi</th>\n",
       "      <th>quote</th>\n",
       "      <th>reason</th>\n",
       "    </tr>\n",
       "  </thead>\n",
       "  <tbody>\n",
       "    <tr>\n",
       "      <th>0</th>\n",
       "      <td>56372</td>\n",
       "      <td>31</td>\n",
       "      <td>Male</td>\n",
       "      <td>510</td>\n",
       "      <td>185</td>\n",
       "      <td>26.5</td>\n",
       "      <td>500.0</td>\n",
       "      <td>BMI is in right range</td>\n",
       "    </tr>\n",
       "    <tr>\n",
       "      <th>1</th>\n",
       "      <td>34565</td>\n",
       "      <td>35</td>\n",
       "      <td>Male</td>\n",
       "      <td>510</td>\n",
       "      <td>205</td>\n",
       "      <td>29.4</td>\n",
       "      <td>500.0</td>\n",
       "      <td>BMI is in right range</td>\n",
       "    </tr>\n",
       "    <tr>\n",
       "      <th>2</th>\n",
       "      <td>57732</td>\n",
       "      <td>45</td>\n",
       "      <td>Female</td>\n",
       "      <td>510</td>\n",
       "      <td>125</td>\n",
       "      <td>17.9</td>\n",
       "      <td>900.0</td>\n",
       "      <td>Age is between 40 to 59 and 'BMI' is either le...</td>\n",
       "    </tr>\n",
       "    <tr>\n",
       "      <th>3</th>\n",
       "      <td>87324</td>\n",
       "      <td>38</td>\n",
       "      <td>Male</td>\n",
       "      <td>503</td>\n",
       "      <td>175</td>\n",
       "      <td>31.0</td>\n",
       "      <td>500.0</td>\n",
       "      <td>BMI is in right range</td>\n",
       "    </tr>\n",
       "    <tr>\n",
       "      <th>4</th>\n",
       "      <td>12323</td>\n",
       "      <td>39</td>\n",
       "      <td>Female</td>\n",
       "      <td>600</td>\n",
       "      <td>252</td>\n",
       "      <td>34.1</td>\n",
       "      <td>450.0</td>\n",
       "      <td>BMI is in right range</td>\n",
       "    </tr>\n",
       "  </tbody>\n",
       "</table>\n",
       "</div>"
      ],
      "text/plain": [
       "   AppID  Ins_Age Ins_Gender   Ht   Wt   bmi  quote  \\\n",
       "0  56372       31       Male  510  185  26.5  500.0   \n",
       "1  34565       35       Male  510  205  29.4  500.0   \n",
       "2  57732       45     Female  510  125  17.9  900.0   \n",
       "3  87324       38       Male  503  175  31.0  500.0   \n",
       "4  12323       39     Female  600  252  34.1  450.0   \n",
       "\n",
       "                                              reason  \n",
       "0                              BMI is in right range  \n",
       "1                              BMI is in right range  \n",
       "2  Age is between 40 to 59 and 'BMI' is either le...  \n",
       "3                              BMI is in right range  \n",
       "4                              BMI is in right range  "
      ]
     },
     "execution_count": 37,
     "metadata": {},
     "output_type": "execute_result"
    }
   ],
   "source": [
    "discount=10\n",
    "\n",
    "data[\"quote\"] = data.apply(calc_quote, args=(discount,), axis=1)\n",
    "data[\"reason\"] = data.apply(find_reason, axis=1)\n",
    "\n",
    "data.head()"
   ]
  },
  {
   "cell_type": "markdown",
   "metadata": {},
   "source": [
    "### Analysis"
   ]
  },
  {
   "cell_type": "code",
   "execution_count": 38,
   "metadata": {},
   "outputs": [
    {
     "data": {
      "image/png": "[encoded data removed]",
      "text/plain": [
       "<Figure size 432x288 with 1 Axes>"
      ]
     },
     "metadata": {
      "needs_background": "light"
     },
     "output_type": "display_data"
    },
    {
     "data": {
      "image/png": "[encoded data removed]",
      "text/plain": [
       "<Figure size 432x288 with 1 Axes>"
      ]
     },
     "metadata": {
      "needs_background": "light"
     },
     "output_type": "display_data"
    }
   ],
   "source": [
    "# Let's go ahead and analyse the distributions of continous variables\n",
    "def analyse_continous(df, var):\n",
    "    df = df.copy()\n",
    "    df[var].hist(bins=20)\n",
    "    plt.ylabel('Number of persons')\n",
    "    plt.xlabel(var)\n",
    "    plt.title(var)\n",
    "    plt.show()\n",
    "    \n",
    "for var in [\"Ins_Age\",\"bmi\"]:\n",
    "    analyse_continous(data, var)"
   ]
  },
  {
   "cell_type": "code",
   "execution_count": 42,
   "metadata": {},
   "outputs": [
    {
     "data": {
      "text/plain": [
       "<Figure size 1080x360 with 0 Axes>"
      ]
     },
     "metadata": {},
     "output_type": "display_data"
    },
    {
     "data": {
      "image/png": "[encoded data removed]",
      "text/plain": [
       "<Figure size 432x288 with 1 Axes>"
      ]
     },
     "metadata": {
      "needs_background": "light"
     },
     "output_type": "display_data"
    }
   ],
   "source": [
    "# Let's analyse the distributions of categorical variables\n",
    "\n",
    "def plot_categ_var(df,var):\n",
    "    plt.figure(figsize=(15,5))\n",
    "    plt.figure()\n",
    "    sns.boxplot(x=var,y='quote',data=df)\n",
    "    plt.show()\n",
    "    \n",
    "for var in [\"Ins_Gender\"]:\n",
    "    plot_categ_var(data,var)"
   ]
  },
  {
   "cell_type": "markdown",
   "metadata": {},
   "source": [
    "### Conclusion\n",
    "\n",
    "As we already have predefined business rules to calculate the quote we need not train any machine learning model to predict the quote. We can just implement these rules as a function and use it to find the quote."
   ]
  },
  {
   "cell_type": "markdown",
   "metadata": {},
   "source": []
  }
 ],
 "metadata": {
  "interpreter": {
   "hash": "42342e4555b0b82dd71da45fcaf0d7688983a76d6b9c5e3a919449d9bdc7d5a1"
  },
  "kernelspec": {
   "display_name": "Python 3.9.0 ('prudential-ml-test-uqnnex6_')",
   "language": "python",
   "name": "python3"
  },
  "language_info": {
   "codemirror_mode": {
    "name": "ipython",
    "version": 3
   },
   "file_extension": ".py",
   "mimetype": "text/x-python",
   "name": "python",
   "nbconvert_exporter": "python",
   "pygments_lexer": "ipython3",
   "version": "3.9.0"
  },
  "orig_nbformat": 4
 },
 "nbformat": 4,
 "nbformat_minor": 2
}

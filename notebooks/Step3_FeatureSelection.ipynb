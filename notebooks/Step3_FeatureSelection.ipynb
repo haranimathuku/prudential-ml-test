{
 "cells": [
  {
   "cell_type": "markdown",
   "metadata": {},
   "source": [
    "## Quote prediction: Feature selection\n",
    "\n",
    "There will be a notebook for each one of the Machine Learning Pipeline steps:\n",
    "\n",
    "1. Data Analysis\n",
    "2. Feature Engineering\n",
    "3. Feature Selection\n",
    "4. Model Building\n",
    "\n",
    "**This is the notebook for step 3: Feature selection**\n",
    "\n",
    "==================================================================================================="
   ]
  },
  {
   "cell_type": "markdown",
   "metadata": {},
   "source": [
    "##  Feature Selection\n",
    "\n",
    "In the following cells, I will select a group of variables, the most predictive ones, to build our machine learning models. \n",
    "\n",
    "### Why do we need to select variables?\n",
    "\n",
    "1. For production: Fewer variables mean smaller client input requirements, and hence less code for error handling. This reduces the chances of bugs.\n",
    "2. For model performance: Fewer variables mean simpler, more interpretable, less over-fitted models\n",
    "\n",
    "### There are different ways to do the feature selection\n",
    "\n",
    "1. Filter methods\n",
    "2. Wrapper methods\n",
    "3. Embedded methods\n",
    "\n",
    "In this notebook I have used a filter method VIF (Variance inflation factor) to select the variables.\n",
    "\n",
    "Let's go ahead and load the datasets."
   ]
  },
  {
   "cell_type": "code",
   "execution_count": 2,
   "metadata": {
    "ExecuteTime": {
     "end_time": "2021-11-29T10:18:18.385396Z",
     "start_time": "2021-11-29T10:18:17.313625Z"
    },
    "tags": []
   },
   "outputs": [],
   "source": [
    "# to handle datasets\n",
    "import pandas as pd\n",
    "import numpy as np\n",
    "\n",
    "# for plotting\n",
    "import matplotlib.pyplot as plt\n",
    "import seaborn as sns\n",
    "%matplotlib inline\n",
    "\n",
    "# to build the models\n",
    "from sklearn.linear_model import Lasso\n",
    "from sklearn.feature_selection import SelectFromModel\n",
    "\n",
    "# to visualise al the columns in the dataframe\n",
    "pd.pandas.set_option('display.max_columns', None)"
   ]
  },
  {
   "cell_type": "code",
   "execution_count": 5,
   "metadata": {
    "ExecuteTime": {
     "end_time": "2021-11-29T10:18:18.419865Z",
     "start_time": "2021-11-29T10:18:18.388191Z"
    },
    "tags": []
   },
   "outputs": [
    {
     "data": {
      "text/html": [
       "<div>\n",
       "<style scoped>\n",
       "    .dataframe tbody tr th:only-of-type {\n",
       "        vertical-align: middle;\n",
       "    }\n",
       "\n",
       "    .dataframe tbody tr th {\n",
       "        vertical-align: top;\n",
       "    }\n",
       "\n",
       "    .dataframe thead th {\n",
       "        text-align: right;\n",
       "    }\n",
       "</style>\n",
       "<table border=\"1\" class=\"dataframe\">\n",
       "  <thead>\n",
       "    <tr style=\"text-align: right;\">\n",
       "      <th></th>\n",
       "      <th>Ins_Gender</th>\n",
       "      <th>bmi</th>\n",
       "      <th>age_bin_(10, 20]</th>\n",
       "      <th>age_bin_(20, 30]</th>\n",
       "      <th>age_bin_(30, 40]</th>\n",
       "      <th>age_bin_(40, 50]</th>\n",
       "      <th>age_bin_(50, 60]</th>\n",
       "    </tr>\n",
       "  </thead>\n",
       "  <tbody>\n",
       "    <tr>\n",
       "      <th>0</th>\n",
       "      <td>1</td>\n",
       "      <td>29.0</td>\n",
       "      <td>0</td>\n",
       "      <td>0</td>\n",
       "      <td>1</td>\n",
       "      <td>0</td>\n",
       "      <td>0</td>\n",
       "    </tr>\n",
       "    <tr>\n",
       "      <th>1</th>\n",
       "      <td>1</td>\n",
       "      <td>15.9</td>\n",
       "      <td>0</td>\n",
       "      <td>0</td>\n",
       "      <td>1</td>\n",
       "      <td>0</td>\n",
       "      <td>0</td>\n",
       "    </tr>\n",
       "    <tr>\n",
       "      <th>2</th>\n",
       "      <td>1</td>\n",
       "      <td>17.3</td>\n",
       "      <td>0</td>\n",
       "      <td>0</td>\n",
       "      <td>0</td>\n",
       "      <td>1</td>\n",
       "      <td>0</td>\n",
       "    </tr>\n",
       "    <tr>\n",
       "      <th>3</th>\n",
       "      <td>0</td>\n",
       "      <td>25.8</td>\n",
       "      <td>1</td>\n",
       "      <td>0</td>\n",
       "      <td>0</td>\n",
       "      <td>0</td>\n",
       "      <td>0</td>\n",
       "    </tr>\n",
       "    <tr>\n",
       "      <th>4</th>\n",
       "      <td>1</td>\n",
       "      <td>27.3</td>\n",
       "      <td>0</td>\n",
       "      <td>0</td>\n",
       "      <td>0</td>\n",
       "      <td>0</td>\n",
       "      <td>1</td>\n",
       "    </tr>\n",
       "  </tbody>\n",
       "</table>\n",
       "</div>"
      ],
      "text/plain": [
       "   Ins_Gender   bmi  age_bin_(10, 20]  age_bin_(20, 30]  age_bin_(30, 40]  \\\n",
       "0           1  29.0                 0                 0                 1   \n",
       "1           1  15.9                 0                 0                 1   \n",
       "2           1  17.3                 0                 0                 0   \n",
       "3           0  25.8                 1                 0                 0   \n",
       "4           1  27.3                 0                 0                 0   \n",
       "\n",
       "   age_bin_(40, 50]  age_bin_(50, 60]  \n",
       "0                 0                 0  \n",
       "1                 0                 0  \n",
       "2                 1                 0  \n",
       "3                 0                 0  \n",
       "4                 0                 1  "
      ]
     },
     "execution_count": 5,
     "metadata": {},
     "output_type": "execute_result"
    }
   ],
   "source": [
    "# load dataset\n",
    "# I loaded the datasets with the engineered values: I built and saved these datasets in the previous notebook.\n",
    "\n",
    "X_train = pd.read_csv('../data/output/xtrain.csv')\n",
    "X_test = pd.read_csv('../data/output/xtest.csv')\n",
    "\n",
    "X_train.head()"
   ]
  },
  {
   "cell_type": "code",
   "execution_count": 6,
   "metadata": {
    "ExecuteTime": {
     "end_time": "2021-11-29T10:18:18.444625Z",
     "start_time": "2021-11-29T10:18:18.424972Z"
    },
    "tags": []
   },
   "outputs": [
    {
     "data": {
      "text/html": [
       "<div>\n",
       "<style scoped>\n",
       "    .dataframe tbody tr th:only-of-type {\n",
       "        vertical-align: middle;\n",
       "    }\n",
       "\n",
       "    .dataframe tbody tr th {\n",
       "        vertical-align: top;\n",
       "    }\n",
       "\n",
       "    .dataframe thead th {\n",
       "        text-align: right;\n",
       "    }\n",
       "</style>\n",
       "<table border=\"1\" class=\"dataframe\">\n",
       "  <thead>\n",
       "    <tr style=\"text-align: right;\">\n",
       "      <th></th>\n",
       "      <th>quote</th>\n",
       "    </tr>\n",
       "  </thead>\n",
       "  <tbody>\n",
       "    <tr>\n",
       "      <th>0</th>\n",
       "      <td>500</td>\n",
       "    </tr>\n",
       "    <tr>\n",
       "      <th>1</th>\n",
       "      <td>750</td>\n",
       "    </tr>\n",
       "    <tr>\n",
       "      <th>2</th>\n",
       "      <td>1000</td>\n",
       "    </tr>\n",
       "    <tr>\n",
       "      <th>3</th>\n",
       "      <td>450</td>\n",
       "    </tr>\n",
       "    <tr>\n",
       "      <th>4</th>\n",
       "      <td>500</td>\n",
       "    </tr>\n",
       "  </tbody>\n",
       "</table>\n",
       "</div>"
      ],
      "text/plain": [
       "   quote\n",
       "0    500\n",
       "1    750\n",
       "2   1000\n",
       "3    450\n",
       "4    500"
      ]
     },
     "execution_count": 6,
     "metadata": {},
     "output_type": "execute_result"
    }
   ],
   "source": [
    "# capture the target\n",
    "y_train = pd.read_csv('../data/output/ytrain.csv')\n",
    "y_test = pd.read_csv('../data/output/ytest.csv')\n",
    "\n",
    "y_train.head()"
   ]
  },
  {
   "cell_type": "code",
   "execution_count": 14,
   "metadata": {
    "ExecuteTime": {
     "end_time": "2021-11-29T11:51:11.027475Z",
     "start_time": "2021-11-29T11:51:04.647873Z"
    }
   },
   "outputs": [],
   "source": [
    "#import statsmodels.api as sm\n",
    "#X = sm.add_constant(X_train)\n",
    "#y=y_train\n",
    "#model= sm.OLS(y, X).fit()\n",
    "#model.summary()"
   ]
  },
  {
   "cell_type": "markdown",
   "metadata": {},
   "source": [
    "### Feature Selection\n",
    "\n",
    "Correlation matrix"
   ]
  },
  {
   "cell_type": "code",
   "execution_count": 7,
   "metadata": {
    "ExecuteTime": {
     "end_time": "2021-11-29T10:18:19.101114Z",
     "start_time": "2021-11-29T10:18:18.457482Z"
    },
    "tags": []
   },
   "outputs": [
    {
     "data": {
      "image/png": "[encoded data removed]",
      "text/plain": [
       "<Figure size 864x792 with 2 Axes>"
      ]
     },
     "metadata": {
      "needs_background": "light"
     },
     "output_type": "display_data"
    }
   ],
   "source": [
    "corr = X_train.corr()\n",
    "\n",
    "# plot the heatmap\n",
    "plt.figure(figsize=(12,11))\n",
    "sns.heatmap(corr, \n",
    "        xticklabels=corr.columns,\n",
    "        yticklabels=corr.columns,annot=True)\n",
    "plt.show()"
   ]
  },
  {
   "cell_type": "markdown",
   "metadata": {},
   "source": [
    "There is some corelation existing between age and bmi.\n",
    "\n",
    "Only the relationship between two variables can be determined using a correlation matrix. It is unable to inform us of the multicollinearity. To grasp this, we must calculate VIF (Variance inflation factor)."
   ]
  },
  {
   "cell_type": "markdown",
   "metadata": {},
   "source": [
    "## Calculating VIF"
   ]
  },
  {
   "cell_type": "code",
   "execution_count": 8,
   "metadata": {
    "ExecuteTime": {
     "end_time": "2021-11-29T10:18:19.110372Z",
     "start_time": "2021-11-29T10:18:19.104760Z"
    },
    "tags": []
   },
   "outputs": [],
   "source": [
    "import pandas as pd\n",
    "from sklearn.linear_model import LinearRegression\n",
    "\n",
    "def vif(cols, data):\n",
    "\n",
    "    vif_dict = {}\n",
    "    for col in cols:\n",
    "        not_col = [i for i in cols if i != col]\n",
    "        X, y = data[not_col], data[col]\n",
    "\n",
    "        # extract r-squared from the fit\n",
    "        r_squared = LinearRegression().fit(X, y).score(X, y)\n",
    "\n",
    "        # calculate VIF\n",
    "        vif = 1/(1 - r_squared)\n",
    "        vif_dict[col] = vif\n",
    "\n",
    "    # return VIF DataFrame\n",
    "    df_vif = pd.DataFrame({'vif': vif_dict})\n",
    "\n",
    "    return df_vif"
   ]
  },
  {
   "cell_type": "code",
   "execution_count": 9,
   "metadata": {
    "ExecuteTime": {
     "end_time": "2021-11-29T10:18:19.117245Z",
     "start_time": "2021-11-29T10:18:19.113156Z"
    },
    "tags": []
   },
   "outputs": [],
   "source": [
    "cols = X_train.columns"
   ]
  },
  {
   "cell_type": "code",
   "execution_count": 10,
   "metadata": {
    "ExecuteTime": {
     "end_time": "2021-11-29T10:18:19.163392Z",
     "start_time": "2021-11-29T10:18:19.119386Z"
    },
    "tags": []
   },
   "outputs": [
    {
     "name": "stderr",
     "output_type": "stream",
     "text": [
      "/var/folders/h3/rxb568kj65v3x2q584bz3l600000gn/T/ipykernel_63307/2906110124.py:15: RuntimeWarning: divide by zero encountered in double_scalars\n",
      "  vif = 1/(1 - r_squared)\n",
      "/var/folders/h3/rxb568kj65v3x2q584bz3l600000gn/T/ipykernel_63307/2906110124.py:15: RuntimeWarning: divide by zero encountered in double_scalars\n",
      "  vif = 1/(1 - r_squared)\n",
      "/var/folders/h3/rxb568kj65v3x2q584bz3l600000gn/T/ipykernel_63307/2906110124.py:15: RuntimeWarning: divide by zero encountered in double_scalars\n",
      "  vif = 1/(1 - r_squared)\n",
      "/var/folders/h3/rxb568kj65v3x2q584bz3l600000gn/T/ipykernel_63307/2906110124.py:15: RuntimeWarning: divide by zero encountered in double_scalars\n",
      "  vif = 1/(1 - r_squared)\n",
      "/var/folders/h3/rxb568kj65v3x2q584bz3l600000gn/T/ipykernel_63307/2906110124.py:15: RuntimeWarning: divide by zero encountered in double_scalars\n",
      "  vif = 1/(1 - r_squared)\n"
     ]
    }
   ],
   "source": [
    "vif_value = vif(cols,X_train)"
   ]
  },
  {
   "cell_type": "code",
   "execution_count": 11,
   "metadata": {
    "ExecuteTime": {
     "end_time": "2021-11-29T10:18:19.173475Z",
     "start_time": "2021-11-29T10:18:19.166880Z"
    },
    "tags": []
   },
   "outputs": [
    {
     "data": {
      "text/html": [
       "<div>\n",
       "<style scoped>\n",
       "    .dataframe tbody tr th:only-of-type {\n",
       "        vertical-align: middle;\n",
       "    }\n",
       "\n",
       "    .dataframe tbody tr th {\n",
       "        vertical-align: top;\n",
       "    }\n",
       "\n",
       "    .dataframe thead th {\n",
       "        text-align: right;\n",
       "    }\n",
       "</style>\n",
       "<table border=\"1\" class=\"dataframe\">\n",
       "  <thead>\n",
       "    <tr style=\"text-align: right;\">\n",
       "      <th></th>\n",
       "      <th>vif</th>\n",
       "    </tr>\n",
       "  </thead>\n",
       "  <tbody>\n",
       "    <tr>\n",
       "      <th>Ins_Gender</th>\n",
       "      <td>1.033258</td>\n",
       "    </tr>\n",
       "    <tr>\n",
       "      <th>age_bin_(10, 20]</th>\n",
       "      <td>inf</td>\n",
       "    </tr>\n",
       "    <tr>\n",
       "      <th>age_bin_(20, 30]</th>\n",
       "      <td>inf</td>\n",
       "    </tr>\n",
       "    <tr>\n",
       "      <th>age_bin_(30, 40]</th>\n",
       "      <td>inf</td>\n",
       "    </tr>\n",
       "    <tr>\n",
       "      <th>age_bin_(40, 50]</th>\n",
       "      <td>inf</td>\n",
       "    </tr>\n",
       "    <tr>\n",
       "      <th>age_bin_(50, 60]</th>\n",
       "      <td>inf</td>\n",
       "    </tr>\n",
       "    <tr>\n",
       "      <th>bmi</th>\n",
       "      <td>1.068906</td>\n",
       "    </tr>\n",
       "  </tbody>\n",
       "</table>\n",
       "</div>"
      ],
      "text/plain": [
       "                       vif\n",
       "Ins_Gender        1.033258\n",
       "age_bin_(10, 20]       inf\n",
       "age_bin_(20, 30]       inf\n",
       "age_bin_(30, 40]       inf\n",
       "age_bin_(40, 50]       inf\n",
       "age_bin_(50, 60]       inf\n",
       "bmi               1.068906"
      ]
     },
     "execution_count": 11,
     "metadata": {},
     "output_type": "execute_result"
    }
   ],
   "source": [
    "vif_value"
   ]
  },
  {
   "cell_type": "markdown",
   "metadata": {},
   "source": [
    "Normally, columns with a vif value greater than 5 are removed. However, because all of the vif values are less than 5, we can model all of the features."
   ]
  }
 ],
 "metadata": {
  "kernelspec": {
   "display_name": "Python 3",
   "language": "python",
   "name": "python3"
  },
  "language_info": {
   "codemirror_mode": {
    "name": "ipython",
    "version": 3
   },
   "file_extension": ".py",
   "mimetype": "text/x-python",
   "name": "python",
   "nbconvert_exporter": "python",
   "pygments_lexer": "ipython3",
   "version": "3.9.0"
  }
 },
 "nbformat": 4,
 "nbformat_minor": 4
}
